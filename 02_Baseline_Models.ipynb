{
 "cells": [
  {
   "cell_type": "code",
   "execution_count": 5,
   "metadata": {},
   "outputs": [],
   "source": [
    "import sys\n",
    "import matplotlib.pyplot as plt\n",
    "import tensorflow as tf\n",
    "from tensorflow import keras\n",
    "from tensorflow.keras import Input, Model\n",
    "from tensorflow.keras.applications import DenseNet121\n",
    "from tensorflow.keras.layers import Dense, GlobalAveragePooling2D\n",
    "from tensorflow.keras.optimizers.legacy import Adam\n",
    "from tensorflow.keras.layers import Flatten, Dense\n",
    "from tensorflow.keras.models import Model\n",
    "from tensorflow.keras.preprocessing.image import ImageDataGenerator\n",
    "\n",
    "sys.path.append('../functions') # Adds the folder functions where our scripts are stored to the path\n",
    "from preprocessing import img_dataset_from_dir_and_split_train_val\n",
    "\n",
    "RSEED = 42\n",
    "TRAINING_IMAGES = '../data/train/'\n",
    "NUM_Classes = 39\n",
    "TEST_IMAGES = ''"
   ]
  },
  {
   "cell_type": "code",
   "execution_count": 15,
   "metadata": {},
   "outputs": [],
   "source": [
    "# This function is commented out by default. If you train multiple models or change values on the go \n",
    "# it's good practice to clear the keras session cache from time to time. \n",
    "# This helps avoid clutter from old models\n",
    "'''\n",
    "K.clear_session()\n",
    "'''"
   ]
  },
  {
   "cell_type": "code",
   "execution_count": 3,
   "metadata": {},
   "outputs": [
    {
     "name": "stdout",
     "output_type": "stream",
     "text": [
      "Found 76687 files belonging to 39 classes.\n",
      "Using 61350 files for training.\n",
      "Using 15337 files for validation.\n"
     ]
    }
   ],
   "source": [
    "# We create a dataset for the training data 'train_ds' and for validation data 'val_ds' at a 80:20 ratio.\n",
    "# All images will also be cropped and resized to 224x224 px to comply with the pretrained model that's\n",
    "# going to be used.\n",
    "train_ds, val_ds = img_dataset_from_dir_and_split_train_val(TRAINING_IMAGES)"
   ]
  },
  {
   "cell_type": "code",
   "execution_count": 7,
   "metadata": {},
   "outputs": [
    {
     "name": "stdout",
     "output_type": "stream",
     "text": [
      "Found 76687 files belonging to 39 classes.\n",
      "Using 61350 files for training.\n",
      "Using 15337 files for validation.\n"
     ]
    }
   ],
   "source": [
    "train_ds, val_ds = img_dataset_from_dir_and_split_train_val(TRAINING_IMAGES)\n",
    "\n",
    "# load model without first input layer, since we want to create one ourselves\n",
    "model = keras.applications.EfficientNetB0(\n",
    "    include_top=False\n",
    ")\n",
    "\n",
    "#freezing of the weights in order not to retrain\n",
    "\n",
    "model.trainable = False "
   ]
  },
  {
   "cell_type": "code",
   "execution_count": 8,
   "metadata": {},
   "outputs": [],
   "source": [
    "inputs = Input(shape = (224, 224, 3)) # image size 224x224 pixels, 3 layers (RGB)\n",
    "\n",
    "base = model(inputs)\n",
    "\n",
    "flatten = GlobalAveragePooling2D()(base)\n",
    "\n",
    "outputs = Dense(39, activation='softmax')(flatten)\n",
    "\n",
    "model_enB0 = Model(inputs,outputs)"
   ]
  },
  {
   "cell_type": "code",
   "execution_count": 9,
   "metadata": {},
   "outputs": [],
   "source": [
    "model_enB0.compile(optimizer=Adam(learning_rate=0.001),\n",
    "              loss='categorical_crossentropy',\n",
    "              metrics=['accuracy'])"
   ]
  },
  {
   "cell_type": "code",
   "execution_count": null,
   "metadata": {},
   "outputs": [],
   "source": [
    "history = model_enB0.fit(train_ds,\n",
    "          verbose=2, # how the training log should get printed \n",
    "          epochs=10,\n",
    "          validation_data=val_ds)"
   ]
  },
  {
   "cell_type": "code",
   "execution_count": null,
   "metadata": {},
   "outputs": [],
   "source": [
    "# Plot training & validation accuracy values\n",
    "plt.plot(history.history['accuracy'])\n",
    "plt.plot(history.history['val_accuracy'])\n",
    "plt.title('Model accuracy')\n",
    "plt.ylabel('Accuracy')\n",
    "plt.xlabel('Epoch')\n",
    "plt.legend(['Train', 'Validation'], loc='upper left')\n",
    "plt.show()\n",
    "\n",
    "\n",
    "# Plot training & validation loss values\n",
    "plt.plot(history.history['loss'])\n",
    "plt.plot(history.history['val_loss'])\n",
    "plt.title('Model loss')\n",
    "plt.ylabel('Loss')\n",
    "plt.xlabel('Epoch')\n",
    "plt.legend(['Train', 'Validation'], loc='upper left')\n",
    "plt.show()"
   ]
  },
  {
   "cell_type": "markdown",
   "metadata": {},
   "source": [
    "# DenseNet121"
   ]
  },
  {
   "cell_type": "code",
   "execution_count": null,
   "metadata": {},
   "outputs": [],
   "source": [
    "#1. Select the convolutional base / Pre-trained network\n",
    "base_model_dense = DenseNet121(weights='imagenet', include_top=False, input_shape=(224, 224, 3))"
   ]
  },
  {
   "cell_type": "code",
   "execution_count": null,
   "metadata": {},
   "outputs": [],
   "source": [
    "#2. Freeze the weights in order to not retrain the loaded pre-trained model\n",
    "base_model_dense.trainable = False"
   ]
  },
  {
   "cell_type": "code",
   "execution_count": null,
   "metadata": {},
   "outputs": [],
   "source": [
    "# 3. Create our model with pretrained network as base model\n",
    "# 3.1 Input layer\n",
    "inputs = Input(shape=(224,224,3))\n",
    "\n",
    "base = base_model_dense(inputs)\n",
    "\n",
    "flatten = GlobalAveragePooling2D()(base)\n",
    "\n",
    "# 3.2 Output layer\n",
    "outputs = Dense(39,activation='softmax')(flatten)\n",
    "\n",
    "# 3.3 Model\n",
    "model_tf_dense = Model(inputs,outputs)\n",
    "model_tf_dense.summary()"
   ]
  },
  {
   "cell_type": "code",
   "execution_count": null,
   "metadata": {},
   "outputs": [],
   "source": [
    "# 4. First, our model has to be compiled. This is some sort of precomputing so that we can then train our model\n",
    "# in the next step.\n",
    "\n",
    "# The 'tf.keras.optimizers.legacy.Adam' has to be changed to 'Adam' if not running on an MX Mac computer!\n",
    "\n",
    "# 4.1 Compile model\n",
    "model_tf_dense.compile(optimizer=tf.keras.optimizers.legacy.Adam(learning_rate=0.001),\n",
    "              loss='categorical_crossentropy',\n",
    "              metrics=['accuracy'])\n",
    "\n",
    "# 4.2 Then we fit the model. This is where the training takes place.\n",
    "history = model_tf_dense.fit(train_ds,\n",
    "          #verbose=2, # how much of the training log should get printed \n",
    "          epochs=10,\n",
    "          validation_data=val_ds)"
   ]
  },
  {
   "cell_type": "code",
   "execution_count": 36,
   "metadata": {},
   "outputs": [
    {
     "data": {
      "image/png": "[encoded data removed]",
      "text/plain": [
       "<Figure size 640x480 with 1 Axes>"
      ]
     },
     "metadata": {},
     "output_type": "display_data"
    },
    {
     "data": {
      "image/png": "[encoded data removed]",
      "text/plain": [
       "<Figure size 640x480 with 1 Axes>"
      ]
     },
     "metadata": {},
     "output_type": "display_data"
    }
   ],
   "source": [
    "# Plot training & validation accuracy values\n",
    "plt.plot(history.history['accuracy'])\n",
    "plt.plot(history.history['val_accuracy'])\n",
    "plt.title('Model accuracy')\n",
    "plt.ylabel('Accuracy')\n",
    "plt.xlabel('Epoch')\n",
    "plt.legend(['Train', 'Validation'], loc='upper left')\n",
    "plt.show()\n",
    "\n",
    "\n",
    "# Plot training & validation loss values\n",
    "plt.plot(history.history['loss'])\n",
    "plt.plot(history.history['val_loss'])\n",
    "plt.title('Model loss')\n",
    "plt.ylabel('Loss')\n",
    "plt.xlabel('Epoch')\n",
    "plt.legend(['Train', 'Validation'], loc='upper left')\n",
    "plt.show()"
   ]
  },
  {
   "cell_type": "markdown",
   "metadata": {},
   "source": []
  },
  {
   "cell_type": "markdown",
   "metadata": {},
   "source": [
    "# ResNet50"
   ]
  },
  {
   "cell_type": "code",
   "execution_count": null,
   "metadata": {},
   "outputs": [],
   "source": [
    "from tensorflow.keras.applications import ResNet50\n",
    "\n",
    "# Load the pre-trained ResNet50 model without the top layer (include_top=False)\n",
    "base_model_resnet = ResNet50(weights='imagenet', include_top=False, input_shape=(224, 224, 3))\n",
    "\n",
    "# Freeze the layers of the ResNet model\n",
    "for layer in base_model_resnet.layers:\n",
    "    layer.trainable = False\n",
    "\n",
    "# Add a fully connected layer on top of the ResNet model\n",
    "x = Flatten()(base_model_resnet.output)\n",
    "x = Dense(256, activation='relu')(x)\n",
    "output = Dense(NUM_Classes, activation='softmax')(x)\n",
    "\n",
    "# Create the custom model\n",
    "model = Model(inputs=base_model_resnet.input, outputs=output)\n",
    "\n",
    "# Compile the model\n",
    "model.compile(optimizer='adam', loss='categorical_crossentropy', metrics=['accuracy'])\n",
    "\n",
    "# Data preprocessing and augmentation\n",
    "train_datagen = ImageDataGenerator(rescale=1./255, shear_range=0.2, zoom_range=0.2, horizontal_flip=True)\n",
    "test_datagen = ImageDataGenerator(rescale=1./255)\n",
    "\n",
    "train_generator = train_datagen.flow_from_directory(\n",
    "        'train_data_directory',\n",
    "        target_size=(224, 224),\n",
    "        batch_size=32,\n",
    "        class_mode='categorical')\n",
    "\n",
    "validation_generator = test_datagen.flow_from_directory(\n",
    "        'validation_data_directory',\n",
    "        target_size=(224, 224),\n",
    "        batch_size=32,\n",
    "        class_mode='categorical')\n",
    "\n",
    "# Train the model\n",
    "model.fit(\n",
    "        train_generator,\n",
    "        steps_per_epoch=2000 // 32,\n",
    "        epochs=10,\n",
    "        validation_data=validation_generator,\n",
    "        validation_steps=800 // 32)\n",
    "\n",
    "# Make predictions\n",
    "predictions = model.predict(TEST_IMAGES)\n"
   ]
  },
  {
   "cell_type": "markdown",
   "metadata": {},
   "source": [
    "# VGG16"
   ]
  },
  {
   "cell_type": "code",
   "execution_count": null,
   "metadata": {},
   "outputs": [],
   "source": [
    "\n",
    "from tensorflow.keras.applications import VGG16\n",
    "\n",
    "# Load the pre-trained VGG16 model\n",
    "base_model_vgg16 = VGG16(weights='imagenet', include_top=False, input_shape=(224, 224, 3))\n",
    "\n",
    "# Freeze the layers of the VGG16 model\n",
    "for layer in base_model_vgg16.layers:\n",
    "    layer.trainable = False\n",
    "\n",
    "# Add a fully connected layer on top of the VGG16 model\n",
    "x = Flatten()(base_model_vgg16.output)\n",
    "x = Dense(256, activation='relu')(x)\n",
    "output = Dense(NUM_Classes, activation='softmax')(x)\n",
    "\n",
    "# Create the custom model\n",
    "model = Model(inputs=base_model_vgg16.input, outputs=output)\n",
    "\n",
    "# Compile the model\n",
    "model.compile(optimizer='adam', loss='categorical_crossentropy', metrics=['accuracy'])\n",
    "\n",
    "# Data preprocessing and augmentation\n",
    "train_datagen = ImageDataGenerator(rescale=1./255, shear_range=0.2, zoom_range=0.2, horizontal_flip=True)\n",
    "test_datagen = ImageDataGenerator(rescale=1./255)\n",
    "\n",
    "train_generator = train_datagen.flow_from_directory(\n",
    "        'train_data_directory',\n",
    "        target_size=(224, 224),\n",
    "        batch_size=32,\n",
    "        class_mode='categorical')\n",
    "\n",
    "validation_generator = test_datagen.flow_from_directory(\n",
    "        'validation_data_directory',\n",
    "        target_size=(224, 224),\n",
    "        batch_size=32,\n",
    "        class_mode='categorical')\n",
    "\n",
    "# Train the model\n",
    "model.fit(\n",
    "        train_generator,\n",
    "        steps_per_epoch=2000 // 32,\n",
    "        epochs=10,\n",
    "        validation_data=validation_generator,\n",
    "        validation_steps=800 // 32)\n",
    "\n",
    "# Make predictions\n",
    "predictions = model.predict(TEST_IMAGES)\n"
   ]
  },
  {
   "cell_type": "markdown",
   "metadata": {},
   "source": [
    "# InceptionV3"
   ]
  },
  {
   "cell_type": "code",
   "execution_count": null,
   "metadata": {},
   "outputs": [],
   "source": [
    "from tensorflow.keras.applications import InceptionV3\n",
    "\n",
    "# Load the pre-trained InceptionV3 model\n",
    "base_model_inception = InceptionV3(weights='imagenet', include_top=False, input_shape=(224, 224, 3))\n",
    "\n",
    "# Freeze the layers of the InceptionV3 model\n",
    "for layer in base_model_inception.layers:\n",
    "    layer.trainable = False\n",
    "\n",
    "# Add a fully connected layer on top of the InceptionV3 model\n",
    "x = Flatten()(base_model_inception.output)\n",
    "x = Dense(256, activation='relu')(x)\n",
    "output = Dense(NUM_Classes, activation='softmax')(x)\n",
    "\n",
    "# Create the custom model\n",
    "model = Model(inputs=base_model_inception.input, outputs=output)\n",
    "\n",
    "# Compile the model\n",
    "model.compile(optimizer='adam', loss='categorical_crossentropy', metrics=['accuracy'])\n",
    "\n",
    "# Data preprocessing and augmentation\n",
    "train_datagen = ImageDataGenerator(rescale=1./255, shear_range=0.2, zoom_range=0.2, horizontal_flip=True)\n",
    "test_datagen = ImageDataGenerator(rescale=1./255)\n",
    "\n",
    "train_generator = train_datagen.flow_from_directory(\n",
    "        'train_data_directory',\n",
    "        target_size=(224, 224),\n",
    "        batch_size=32,\n",
    "        class_mode='categorical')\n",
    "\n",
    "validation_generator = test_datagen.flow_from_directory(\n",
    "        'validation_data_directory',\n",
    "        target_size=(224, 224),\n",
    "        batch_size=32,\n",
    "        class_mode='categorical')\n",
    "\n",
    "# Train the model\n",
    "model.fit(\n",
    "        train_generator,\n",
    "        steps_per_epoch=2000 // 32,\n",
    "        epochs=10,\n",
    "        validation_data=validation_generator,\n",
    "        validation_steps=800 // 32)\n",
    "\n",
    "# Make predictions\n",
    "predictions = model.predict(TEST_IMAGES)\n"
   ]
  },
  {
   "cell_type": "markdown",
   "metadata": {},
   "source": [
    "# Xception"
   ]
  },
  {
   "cell_type": "code",
   "execution_count": null,
   "metadata": {},
   "outputs": [],
   "source": [
    "from tensorflow.keras.applications import Xception\n",
    "\n",
    "# Load the pre-trained Xception model\n",
    "base_model_xception = Xception(weights='imagenet', include_top=False, input_shape=(224, 224, 3))\n",
    "\n",
    "# Freeze the layers of the Xception model\n",
    "for layer in base_model_xception.layers:\n",
    "    layer.trainable = False\n",
    "\n",
    "# Add a fully connected layer on top of the Xception model\n",
    "x = Flatten()(base_model_xception.output)\n",
    "x = Dense(256, activation='relu')(x)\n",
    "output = Dense(NUM_Classes, activation='softmax')(x)\n",
    "\n",
    "# Create the custom model\n",
    "model = Model(inputs=base_model_xception.input, outputs=output)\n",
    "\n",
    "# Compile the model\n",
    "model.compile(optimizer='adam', loss='categorical_crossentropy', metrics=['accuracy'])\n",
    "\n",
    "# Data preprocessing and augmentation\n",
    "train_datagen = ImageDataGenerator(rescale=1./255, shear_range=0.2, zoom_range=0.2, horizontal_flip=True)\n",
    "test_datagen = ImageDataGenerator(rescale=1./255)\n",
    "\n",
    "train_generator = train_datagen.flow_from_directory(\n",
    "        'train_data_directory',\n",
    "        target_size=(224, 224),\n",
    "        batch_size=32,\n",
    "        class_mode='categorical')\n",
    "\n",
    "validation_generator = test_datagen.flow_from_directory(\n",
    "        'validation_data_directory',\n",
    "        target_size=(224, 224),\n",
    "        batch_size=32,\n",
    "        class_mode='categorical')\n",
    "\n",
    "# Train the model\n",
    "model.fit(\n",
    "        train_generator,\n",
    "        steps_per_epoch=2000 // 32,\n",
    "        epochs=10,\n",
    "        validation_data=validation_generator,\n",
    "        validation_steps=800 // 32)\n",
    "\n",
    "# Make predictions\n",
    "predictions = model.predict(TEST_IMAGES)\n"
   ]
  }
 ],
 "metadata": {
  "kernelspec": {
   "display_name": "Python 3 (ipykernel)",
   "language": "python",
   "name": "python3"
  },
  "language_info": {
   "codemirror_mode": {
    "name": "ipython",
    "version": 3
   },
   "file_extension": ".py",
   "mimetype": "text/x-python",
   "name": "python",
   "nbconvert_exporter": "python",
   "pygments_lexer": "ipython3",
   "version": "3.10.12"
  }
 },
 "nbformat": 4,
 "nbformat_minor": 4
}
